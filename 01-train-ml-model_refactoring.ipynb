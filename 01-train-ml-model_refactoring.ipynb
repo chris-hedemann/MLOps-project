{
 "cells": [
  {
   "attachments": {},
   "cell_type": "markdown",
   "metadata": {},
   "source": [
    "# Refactoring of the train-ml-model.ipynb notebook"
   ]
  },
  {
   "cell_type": "code",
   "execution_count": 5,
   "metadata": {},
   "outputs": [],
   "source": [
    "import os\n",
    "from dotenv import load_dotenv\n",
    "\n",
    "import pandas as pd\n",
    "\n",
    "import mlflow\n",
    "from mlflow.tracking.client import MlflowClient\n",
    "\n",
    "from sklearn.model_selection import train_test_split\n",
    "from sklearn.linear_model import LinearRegression\n",
    "from sklearn.metrics import mean_squared_error\n"
   ]
  },
  {
   "cell_type": "markdown",
   "metadata": {},
   "source": [
    "### Extract and load\n",
    "\n",
    "Rewrite to accept multiple months for retraining"
   ]
  },
  {
   "cell_type": "code",
   "execution_count": 6,
   "metadata": {},
   "outputs": [],
   "source": [
    "year = 2021\n",
    "month = 1\n",
    "color = \"green\"\n",
    "model_name=\"mlops-project\"\n"
   ]
  },
  {
   "cell_type": "code",
   "execution_count": 24,
   "metadata": {},
   "outputs": [],
   "source": [
    "from typing import Optional\n",
    "# Download the data\n",
    "\n",
    "def extract_data(file_name: str): \n",
    "    if not os.path.exists(f\"./data/{file_name}\"):\n",
    "        os.system(f\"wget -P ./data https://d37ci6vzurychx.cloudfront.net/trip-data/{file_name}\")\n",
    "\n",
    "def load_data(file_name: str,\n",
    "        df2: Optional[pd.DataFrame] = None,\n",
    "        ) -> pd.DataFrame:\n",
    "    \n",
    "    df = pd.read_parquet(f\"./data/{file_name}\")\n",
    "    if df2 is None:\n",
    "        df = pd.concat([df, df2], ignore_index=True)\n",
    "    return df"
   ]
  },
  {
   "cell_type": "markdown",
   "metadata": {},
   "source": [
    "#### Test with single month"
   ]
  },
  {
   "cell_type": "code",
   "execution_count": 13,
   "metadata": {},
   "outputs": [],
   "source": [
    "file_name = f\"{color}_tripdata_{year}-{month:02d}.parquet\"\n",
    "\n",
    "extract_data(file_name)\n",
    "df = load_data(file_name)"
   ]
  },
  {
   "cell_type": "code",
   "execution_count": 22,
   "metadata": {},
   "outputs": [
    {
     "data": {
      "text/html": [
       "<div>\n",
       "<style scoped>\n",
       "    .dataframe tbody tr th:only-of-type {\n",
       "        vertical-align: middle;\n",
       "    }\n",
       "\n",
       "    .dataframe tbody tr th {\n",
       "        vertical-align: top;\n",
       "    }\n",
       "\n",
       "    .dataframe thead th {\n",
       "        text-align: right;\n",
       "    }\n",
       "</style>\n",
       "<table border=\"1\" class=\"dataframe\">\n",
       "  <thead>\n",
       "    <tr style=\"text-align: right;\">\n",
       "      <th></th>\n",
       "      <th>VendorID</th>\n",
       "      <th>lpep_pickup_datetime</th>\n",
       "      <th>lpep_dropoff_datetime</th>\n",
       "      <th>store_and_fwd_flag</th>\n",
       "      <th>RatecodeID</th>\n",
       "      <th>PULocationID</th>\n",
       "      <th>DOLocationID</th>\n",
       "      <th>passenger_count</th>\n",
       "      <th>trip_distance</th>\n",
       "      <th>fare_amount</th>\n",
       "      <th>extra</th>\n",
       "      <th>mta_tax</th>\n",
       "      <th>tip_amount</th>\n",
       "      <th>tolls_amount</th>\n",
       "      <th>ehail_fee</th>\n",
       "      <th>improvement_surcharge</th>\n",
       "      <th>total_amount</th>\n",
       "      <th>payment_type</th>\n",
       "      <th>trip_type</th>\n",
       "      <th>congestion_surcharge</th>\n",
       "    </tr>\n",
       "  </thead>\n",
       "  <tbody>\n",
       "    <tr>\n",
       "      <th>0</th>\n",
       "      <td>2</td>\n",
       "      <td>2021-01-01 00:15:56</td>\n",
       "      <td>2021-01-01 00:19:52</td>\n",
       "      <td>N</td>\n",
       "      <td>1.0</td>\n",
       "      <td>43</td>\n",
       "      <td>151</td>\n",
       "      <td>1.0</td>\n",
       "      <td>1.01</td>\n",
       "      <td>5.5</td>\n",
       "      <td>0.5</td>\n",
       "      <td>0.5</td>\n",
       "      <td>0.0</td>\n",
       "      <td>0.0</td>\n",
       "      <td>None</td>\n",
       "      <td>0.3</td>\n",
       "      <td>6.8</td>\n",
       "      <td>2.0</td>\n",
       "      <td>1.0</td>\n",
       "      <td>0.0</td>\n",
       "    </tr>\n",
       "  </tbody>\n",
       "</table>\n",
       "</div>"
      ],
      "text/plain": [
       "   VendorID lpep_pickup_datetime lpep_dropoff_datetime store_and_fwd_flag  \\\n",
       "0         2  2021-01-01 00:15:56   2021-01-01 00:19:52                  N   \n",
       "\n",
       "   RatecodeID  PULocationID  DOLocationID  passenger_count  trip_distance  \\\n",
       "0         1.0            43           151              1.0           1.01   \n",
       "\n",
       "   fare_amount  extra  mta_tax  tip_amount  tolls_amount ehail_fee  \\\n",
       "0          5.5    0.5      0.5         0.0           0.0      None   \n",
       "\n",
       "   improvement_surcharge  total_amount  payment_type  trip_type  \\\n",
       "0                    0.3           6.8           2.0        1.0   \n",
       "\n",
       "   congestion_surcharge  \n",
       "0                   0.0  "
      ]
     },
     "execution_count": 22,
     "metadata": {},
     "output_type": "execute_result"
    }
   ],
   "source": [
    "df.head(1)"
   ]
  },
  {
   "cell_type": "code",
   "execution_count": 21,
   "metadata": {},
   "outputs": [
    {
     "data": {
      "text/plain": [
       "(76518, 20)"
      ]
     },
     "execution_count": 21,
     "metadata": {},
     "output_type": "execute_result"
    }
   ],
   "source": [
    "df.shape"
   ]
  },
  {
   "cell_type": "markdown",
   "metadata": {},
   "source": [
    "### Test with multiple months"
   ]
  },
  {
   "cell_type": "code",
   "execution_count": 25,
   "metadata": {},
   "outputs": [
    {
     "name": "stderr",
     "output_type": "stream",
     "text": [
      "--2023-07-21 11:05:08--  https://d37ci6vzurychx.cloudfront.net/trip-data/green_tripdata_2021-03.parquet\n",
      "Auflösen des Hostnamens d37ci6vzurychx.cloudfront.net (d37ci6vzurychx.cloudfront.net)… 2600:9000:2070:3800:b:20a5:b140:21, 2600:9000:2070:1c00:b:20a5:b140:21, 2600:9000:2070:7000:b:20a5:b140:21, ...\n",
      "Verbindungsaufbau zu d37ci6vzurychx.cloudfront.net (d37ci6vzurychx.cloudfront.net)|2600:9000:2070:3800:b:20a5:b140:21|:443 … verbunden.\n",
      "HTTP-Anforderung gesendet, auf Antwort wird gewartet … 200 OK\n",
      "Länge: 1474538 (1,4M) [binary/octet-stream]\n",
      "Wird in »./data/green_tripdata_2021-03.parquet« gespeichert.\n",
      "\n",
      "     0K .......... .......... .......... .......... ..........  3% 1,14M 1s\n",
      "    50K .......... .......... .......... .......... ..........  6%  809K 1s\n",
      "   100K .......... .......... .......... .......... .......... 10%  713K 2s\n",
      "   150K .......... .......... .......... .......... .......... 13% 3,92M 1s\n",
      "   200K .......... .......... .......... .......... .......... 17% 3,96M 1s\n",
      "   250K .......... .......... .......... .......... .......... 20%  752K 1s\n",
      "   300K .......... .......... .......... .......... .......... 24% 10,4M 1s\n",
      "   350K .......... .......... .......... .......... .......... 27% 7,74M 1s\n",
      "   400K .......... .......... .......... .......... .......... 31% 4,50M 1s\n",
      "   450K .......... .......... .......... .......... .......... 34% 5,54M 1s\n",
      "   500K .......... .......... .......... .......... .......... 38% 7,59M 0s\n",
      "   550K .......... .......... .......... .......... .......... 41%  946K 0s\n",
      "   600K .......... .......... .......... .......... .......... 45% 6,32M 0s\n",
      "   650K .......... .......... .......... .......... .......... 48% 7,77M 0s\n",
      "   700K .......... .......... .......... .......... .......... 52% 7,70M 0s\n",
      "   750K .......... .......... .......... .......... .......... 55% 8,01M 0s\n",
      "   800K .......... .......... .......... .......... .......... 59% 7,13M 0s\n",
      "   850K .......... .......... .......... .......... .......... 62% 3,30M 0s\n",
      "   900K .......... .......... .......... .......... .......... 65% 7,49M 0s\n",
      "   950K .......... .......... .......... .......... .......... 69% 7,71M 0s\n",
      "  1000K .......... .......... .......... .......... .......... 72% 7,50M 0s\n",
      "  1050K .......... .......... .......... .......... .......... 76% 7,57M 0s\n",
      "  1100K .......... .......... .......... .......... .......... 79% 4,55M 0s\n",
      "  1150K .......... .......... .......... .......... .......... 83% 5,87M 0s\n",
      "  1200K .......... .......... .......... .......... .......... 86% 6,15M 0s\n",
      "  1250K .......... .......... .......... .......... .......... 90% 4,45M 0s\n",
      "  1300K .......... .......... .......... .......... .......... 93% 7,42M 0s\n",
      "  1350K .......... .......... .......... .......... .......... 97% 5,23M 0s\n",
      "  1400K .......... .......... .......... .........            100% 6,70M=0,5s\n",
      "\n",
      "2023-07-21 11:05:10 (2,87 MB/s) - »./data/green_tripdata_2021-03.parquet« gespeichert [1474538/1474538]\n",
      "\n"
     ]
    }
   ],
   "source": [
    "months = [1,2,3]\n",
    "df = None\n",
    "for month in months:\n",
    "    file_name = f\"{color}_tripdata_{year}-{month:02d}.parquet\"\n",
    "\n",
    "    extract_data(file_name)\n",
    "    df = load_data(file_name, df2=df)"
   ]
  },
  {
   "cell_type": "code",
   "execution_count": 26,
   "metadata": {},
   "outputs": [
    {
     "data": {
      "text/html": [
       "<div>\n",
       "<style scoped>\n",
       "    .dataframe tbody tr th:only-of-type {\n",
       "        vertical-align: middle;\n",
       "    }\n",
       "\n",
       "    .dataframe tbody tr th {\n",
       "        vertical-align: top;\n",
       "    }\n",
       "\n",
       "    .dataframe thead th {\n",
       "        text-align: right;\n",
       "    }\n",
       "</style>\n",
       "<table border=\"1\" class=\"dataframe\">\n",
       "  <thead>\n",
       "    <tr style=\"text-align: right;\">\n",
       "      <th></th>\n",
       "      <th>VendorID</th>\n",
       "      <th>lpep_pickup_datetime</th>\n",
       "      <th>lpep_dropoff_datetime</th>\n",
       "      <th>store_and_fwd_flag</th>\n",
       "      <th>RatecodeID</th>\n",
       "      <th>PULocationID</th>\n",
       "      <th>DOLocationID</th>\n",
       "      <th>passenger_count</th>\n",
       "      <th>trip_distance</th>\n",
       "      <th>fare_amount</th>\n",
       "      <th>extra</th>\n",
       "      <th>mta_tax</th>\n",
       "      <th>tip_amount</th>\n",
       "      <th>tolls_amount</th>\n",
       "      <th>ehail_fee</th>\n",
       "      <th>improvement_surcharge</th>\n",
       "      <th>total_amount</th>\n",
       "      <th>payment_type</th>\n",
       "      <th>trip_type</th>\n",
       "      <th>congestion_surcharge</th>\n",
       "    </tr>\n",
       "  </thead>\n",
       "  <tbody>\n",
       "    <tr>\n",
       "      <th>0</th>\n",
       "      <td>2</td>\n",
       "      <td>2021-03-01 00:05:42</td>\n",
       "      <td>2021-03-01 00:14:03</td>\n",
       "      <td>N</td>\n",
       "      <td>1.0</td>\n",
       "      <td>83</td>\n",
       "      <td>129</td>\n",
       "      <td>1.0</td>\n",
       "      <td>1.56</td>\n",
       "      <td>7.5</td>\n",
       "      <td>0.5</td>\n",
       "      <td>0.5</td>\n",
       "      <td>0.0</td>\n",
       "      <td>0.0</td>\n",
       "      <td>None</td>\n",
       "      <td>0.3</td>\n",
       "      <td>8.8</td>\n",
       "      <td>1.0</td>\n",
       "      <td>1.0</td>\n",
       "      <td>0.0</td>\n",
       "    </tr>\n",
       "  </tbody>\n",
       "</table>\n",
       "</div>"
      ],
      "text/plain": [
       "   VendorID lpep_pickup_datetime lpep_dropoff_datetime store_and_fwd_flag  \\\n",
       "0         2  2021-03-01 00:05:42   2021-03-01 00:14:03                  N   \n",
       "\n",
       "   RatecodeID  PULocationID  DOLocationID  passenger_count  trip_distance  \\\n",
       "0         1.0            83           129              1.0           1.56   \n",
       "\n",
       "   fare_amount  extra  mta_tax  tip_amount  tolls_amount ehail_fee  \\\n",
       "0          7.5    0.5      0.5         0.0           0.0      None   \n",
       "\n",
       "   improvement_surcharge  total_amount  payment_type  trip_type  \\\n",
       "0                    0.3           8.8           1.0        1.0   \n",
       "\n",
       "   congestion_surcharge  \n",
       "0                   0.0  "
      ]
     },
     "execution_count": 26,
     "metadata": {},
     "output_type": "execute_result"
    }
   ],
   "source": [
    "df.head(1)"
   ]
  },
  {
   "cell_type": "code",
   "execution_count": 27,
   "metadata": {},
   "outputs": [
    {
     "data": {
      "text/plain": [
       "(83827, 20)"
      ]
     },
     "execution_count": 27,
     "metadata": {},
     "output_type": "execute_result"
    }
   ],
   "source": [
    "df.shape"
   ]
  },
  {
   "cell_type": "code",
   "execution_count": 30,
   "metadata": {},
   "outputs": [
    {
     "name": "stdout",
     "output_type": "stream",
     "text": [
      "<class 'pandas.core.frame.DataFrame'>\n",
      "RangeIndex: 83827 entries, 0 to 83826\n",
      "Data columns (total 20 columns):\n",
      " #   Column                 Non-Null Count  Dtype         \n",
      "---  ------                 --------------  -----         \n",
      " 0   VendorID               83827 non-null  int64         \n",
      " 1   lpep_pickup_datetime   83827 non-null  datetime64[ns]\n",
      " 2   lpep_dropoff_datetime  83827 non-null  datetime64[ns]\n",
      " 3   store_and_fwd_flag     43293 non-null  object        \n",
      " 4   RatecodeID             43293 non-null  float64       \n",
      " 5   PULocationID           83827 non-null  int64         \n",
      " 6   DOLocationID           83827 non-null  int64         \n",
      " 7   passenger_count        43293 non-null  float64       \n",
      " 8   trip_distance          83827 non-null  float64       \n",
      " 9   fare_amount            83827 non-null  float64       \n",
      " 10  extra                  83827 non-null  float64       \n",
      " 11  mta_tax                83827 non-null  float64       \n",
      " 12  tip_amount             83827 non-null  float64       \n",
      " 13  tolls_amount           83827 non-null  float64       \n",
      " 14  ehail_fee              0 non-null      object        \n",
      " 15  improvement_surcharge  83827 non-null  float64       \n",
      " 16  total_amount           83827 non-null  float64       \n",
      " 17  payment_type           43293 non-null  float64       \n",
      " 18  trip_type              43293 non-null  float64       \n",
      " 19  congestion_surcharge   43293 non-null  float64       \n",
      "dtypes: datetime64[ns](2), float64(13), int64(3), object(2)\n",
      "memory usage: 12.8+ MB\n"
     ]
    }
   ],
   "source": [
    "df.info()"
   ]
  },
  {
   "cell_type": "markdown",
   "metadata": {},
   "source": [
    "### Preprocess data\n",
    "\n",
    "I decided to remove passenger count from the features because there are so many null values and this data doesn't seem relevant for trip duration."
   ]
  },
  {
   "cell_type": "code",
   "execution_count": 36,
   "metadata": {},
   "outputs": [],
   "source": [
    "def calculate_trip_duration_in_minutes(df: pd.DataFrame):\n",
    "    features = [\"PULocationID\", \n",
    "                \"DOLocationID\", \n",
    "                \"trip_distance\", \n",
    "                \"fare_amount\", \n",
    "                \"total_amount\"]\n",
    "    target = \"duration\"\n",
    "\n",
    "    df[target] = (df[\"lpep_dropoff_datetime\"] - df[\"lpep_pickup_datetime\"]).dt.total_seconds() / 60\n",
    "    df = df[(df[\"duration\"] >= 1) & (df[\"duration\"] <= 60)]\n",
    "    df = df[features + [target]]\n",
    "    return df\n",
    "\n",
    "def split_data(df: pd.DataFrame):\n",
    "    df = df.copy()\n",
    "    target = \"duration\"\n",
    "    y=df[target]\n",
    "    X=df.drop(columns=[target])\n",
    "    X_train, X_test, y_train, y_test = train_test_split(\n",
    "        X, \n",
    "        y, \n",
    "        random_state=42, \n",
    "        test_size=0.2)\n",
    "    return X_train, X_test, y_train, y_test"
   ]
  },
  {
   "cell_type": "code",
   "execution_count": 37,
   "metadata": {},
   "outputs": [],
   "source": [
    "df = calculate_trip_duration_in_minutes(df)\n",
    "X_train, X_test, y_train, y_test = split_data(df)"
   ]
  },
  {
   "cell_type": "code",
   "execution_count": 39,
   "metadata": {},
   "outputs": [
    {
     "data": {
      "text/html": [
       "<div>\n",
       "<style scoped>\n",
       "    .dataframe tbody tr th:only-of-type {\n",
       "        vertical-align: middle;\n",
       "    }\n",
       "\n",
       "    .dataframe tbody tr th {\n",
       "        vertical-align: top;\n",
       "    }\n",
       "\n",
       "    .dataframe thead th {\n",
       "        text-align: right;\n",
       "    }\n",
       "</style>\n",
       "<table border=\"1\" class=\"dataframe\">\n",
       "  <thead>\n",
       "    <tr style=\"text-align: right;\">\n",
       "      <th></th>\n",
       "      <th>PULocationID</th>\n",
       "      <th>DOLocationID</th>\n",
       "      <th>trip_distance</th>\n",
       "      <th>fare_amount</th>\n",
       "      <th>total_amount</th>\n",
       "    </tr>\n",
       "  </thead>\n",
       "  <tbody>\n",
       "    <tr>\n",
       "      <th>8196</th>\n",
       "      <td>42</td>\n",
       "      <td>75</td>\n",
       "      <td>2.32</td>\n",
       "      <td>10.00</td>\n",
       "      <td>10.80</td>\n",
       "    </tr>\n",
       "    <tr>\n",
       "      <th>75288</th>\n",
       "      <td>183</td>\n",
       "      <td>168</td>\n",
       "      <td>7.33</td>\n",
       "      <td>27.27</td>\n",
       "      <td>30.32</td>\n",
       "    </tr>\n",
       "  </tbody>\n",
       "</table>\n",
       "</div>"
      ],
      "text/plain": [
       "       PULocationID  DOLocationID  trip_distance  fare_amount  total_amount\n",
       "8196             42            75           2.32        10.00         10.80\n",
       "75288           183           168           7.33        27.27         30.32"
      ]
     },
     "execution_count": 39,
     "metadata": {},
     "output_type": "execute_result"
    }
   ],
   "source": [
    "X_train.head(2)"
   ]
  },
  {
   "cell_type": "code",
   "execution_count": 40,
   "metadata": {},
   "outputs": [
    {
     "data": {
      "text/plain": [
       "8196     10.833333\n",
       "75288    17.000000\n",
       "Name: duration, dtype: float64"
      ]
     },
     "execution_count": 40,
     "metadata": {},
     "output_type": "execute_result"
    }
   ],
   "source": [
    "y_train.head(2)"
   ]
  },
  {
   "cell_type": "markdown",
   "metadata": {},
   "source": [
    "### Train and register model\n",
    "I rewrote the code to update most recent model version to \"Production\" and archive previous version"
   ]
  },
  {
   "cell_type": "code",
   "execution_count": 42,
   "metadata": {},
   "outputs": [],
   "source": [
    "features = [\"PULocationID\", \n",
    "                \"DOLocationID\", \n",
    "                \"trip_distance\", \n",
    "                \"fare_amount\", \n",
    "                \"total_amount\"]\n",
    "target = \"duration\"\n",
    "\n",
    "\n",
    "tags = {\n",
    "    \"model\": \"linear regression\",\n",
    "        \"developer\": \"Chris Hedemann\",\n",
    "        \"dataset\": f\"green-taxi\",\n",
    "        \"year\": year,\n",
    "        \"month\": months,\n",
    "        \"features\": features,\n",
    "        \"target\": target\n",
    "}\n",
    "\n",
    "def train_model(model_name: str, \n",
    "                X_train: pd.DataFrame, \n",
    "                X_test: pd.DataFrame, \n",
    "                y_train: pd.Series, \n",
    "                y_test: pd.Series,\n",
    "                tags: dict[str]):\n",
    "    # Environment variables\n",
    "    load_dotenv()\n",
    "    MLFLOW_TRACKING_URI=os.getenv(\"MLFLOW_TRACKING_URI\")\n",
    "\n",
    "    # Get Google SA_KEY to access the MLFLow server\n",
    "    SA_KEY= os.getenv(\"SA_KEY\")\n",
    "    os.environ[\"GOOGLE_APPLICATION_CREDENTIALS\"] = SA_KEY\n",
    "\n",
    "    # Set up the connection to MLflow\n",
    "    mlflow.set_tracking_uri(MLFLOW_TRACKING_URI)\n",
    "    client = MlflowClient(tracking_uri=MLFLOW_TRACKING_URI)\n",
    "    mlflow.set_experiment(model_name)\n",
    "\n",
    "    with mlflow.start_run():\n",
    "\n",
    "        # Train and evluate model\n",
    "        lr = LinearRegression()\n",
    "        lr.fit(X_train, y_train)\n",
    "        y_pred = lr.predict(X_test)\n",
    "        rmse = mean_squared_error(y_test, y_pred, squared=False)\n",
    "        \n",
    "        # Log model\n",
    "        mlflow.set_tags(tags)\n",
    "        mlflow.log_metric(\"rmse\", rmse)\n",
    "        mlflow.sklearn.log_model(lr, \"model\")\n",
    "\n",
    "        # Register and transition model to production\n",
    "        run_id = mlflow.active_run().info.run_id\n",
    "        model_uri = f\"runs:/{run_id}/model\"\n",
    "        mlflow.register_model(model_uri=model_uri, name=model_name)\n",
    "        latest_versions = client.get_latest_versions(model_name)\n",
    "        model_version = int(latest_versions[-1].version)\n",
    "        new_stage = \"Production\"\n",
    "        client.transition_model_version_stage(\n",
    "        name=model_name,\n",
    "        version=model_version,\n",
    "        stage=new_stage,\n",
    "        archive_existing_versions=True\n",
    "        )"
   ]
  },
  {
   "cell_type": "code",
   "execution_count": 43,
   "metadata": {},
   "outputs": [
    {
     "name": "stderr",
     "output_type": "stream",
     "text": [
      "2023/07/21 11:30:07 INFO mlflow.tracking.fluent: Experiment with name 'mlops-project' does not exist. Creating a new experiment.\n",
      "Successfully registered model 'mlops-project'.\n",
      "2023/07/21 11:30:13 INFO mlflow.tracking._model_registry.client: Waiting up to 300 seconds for model version to finish creation. Model name: mlops-project, version 1\n",
      "Created version '1' of model 'mlops-project'.\n"
     ]
    }
   ],
   "source": [
    "train_model(model_name,\n",
    "            X_train,\n",
    "            X_test, \n",
    "            y_train, \n",
    "            y_test,\n",
    "            tags)"
   ]
  }
 ],
 "metadata": {
  "kernelspec": {
   "display_name": ".venv",
   "language": "python",
   "name": "python3"
  },
  "language_info": {
   "codemirror_mode": {
    "name": "ipython",
    "version": 3
   },
   "file_extension": ".py",
   "mimetype": "text/x-python",
   "name": "python",
   "nbconvert_exporter": "python",
   "pygments_lexer": "ipython3",
   "version": "3.11.3"
  },
  "orig_nbformat": 4
 },
 "nbformat": 4,
 "nbformat_minor": 2
}
